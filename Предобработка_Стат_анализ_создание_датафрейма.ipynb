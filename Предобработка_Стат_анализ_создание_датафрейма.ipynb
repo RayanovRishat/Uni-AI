{
  "nbformat": 4,
  "nbformat_minor": 0,
  "metadata": {
    "colab": {
      "provenance": [],
      "mount_file_id": "1iMPrebmmWeu5T-C7YCfxRqewpB1hswHR",
      "authorship_tag": "ABX9TyP2YTLAy28cNGNRh73G62zP",
      "include_colab_link": true
    },
    "kernelspec": {
      "name": "python3",
      "display_name": "Python 3"
    },
    "language_info": {
      "name": "python"
    },
    "widgets": {
      "application/vnd.jupyter.widget-state+json": {
        "ada70170417b46848acb408823406345": {
          "model_module": "@jupyter-widgets/controls",
          "model_name": "HBoxModel",
          "model_module_version": "1.5.0",
          "state": {
            "_dom_classes": [],
            "_model_module": "@jupyter-widgets/controls",
            "_model_module_version": "1.5.0",
            "_model_name": "HBoxModel",
            "_view_count": null,
            "_view_module": "@jupyter-widgets/controls",
            "_view_module_version": "1.5.0",
            "_view_name": "HBoxView",
            "box_style": "",
            "children": [
              "IPY_MODEL_5f8ab37b436e420881edbe6bfa0e223a",
              "IPY_MODEL_432d7e8c83224c129bed3c595c246b1f",
              "IPY_MODEL_530d175045fa4739b3565cf8bc3ffdd3"
            ],
            "layout": "IPY_MODEL_c4876bb5c45f48678ac8cf3f79d9112c"
          }
        },
        "5f8ab37b436e420881edbe6bfa0e223a": {
          "model_module": "@jupyter-widgets/controls",
          "model_name": "HTMLModel",
          "model_module_version": "1.5.0",
          "state": {
            "_dom_classes": [],
            "_model_module": "@jupyter-widgets/controls",
            "_model_module_version": "1.5.0",
            "_model_name": "HTMLModel",
            "_view_count": null,
            "_view_module": "@jupyter-widgets/controls",
            "_view_module_version": "1.5.0",
            "_view_name": "HTMLView",
            "description": "",
            "description_tooltip": null,
            "layout": "IPY_MODEL_248b85e387334ae6838da18f060011d5",
            "placeholder": "​",
            "style": "IPY_MODEL_6a8a570665c849bba75b998d6244076d",
            "value": "config.json: 100%"
          }
        },
        "432d7e8c83224c129bed3c595c246b1f": {
          "model_module": "@jupyter-widgets/controls",
          "model_name": "FloatProgressModel",
          "model_module_version": "1.5.0",
          "state": {
            "_dom_classes": [],
            "_model_module": "@jupyter-widgets/controls",
            "_model_module_version": "1.5.0",
            "_model_name": "FloatProgressModel",
            "_view_count": null,
            "_view_module": "@jupyter-widgets/controls",
            "_view_module_version": "1.5.0",
            "_view_name": "ProgressView",
            "bar_style": "success",
            "description": "",
            "description_tooltip": null,
            "layout": "IPY_MODEL_351624aa56184318967a0b17e628f143",
            "max": 943,
            "min": 0,
            "orientation": "horizontal",
            "style": "IPY_MODEL_78a21b31caec449098aea387f81cffdc",
            "value": 943
          }
        },
        "530d175045fa4739b3565cf8bc3ffdd3": {
          "model_module": "@jupyter-widgets/controls",
          "model_name": "HTMLModel",
          "model_module_version": "1.5.0",
          "state": {
            "_dom_classes": [],
            "_model_module": "@jupyter-widgets/controls",
            "_model_module_version": "1.5.0",
            "_model_name": "HTMLModel",
            "_view_count": null,
            "_view_module": "@jupyter-widgets/controls",
            "_view_module_version": "1.5.0",
            "_view_name": "HTMLView",
            "description": "",
            "description_tooltip": null,
            "layout": "IPY_MODEL_56cb41749dd640e2869630e0cb4b7b39",
            "placeholder": "​",
            "style": "IPY_MODEL_7facb0d81d0d4e20b049e0ee8d8abcc0",
            "value": " 943/943 [00:00&lt;00:00, 70.4kB/s]"
          }
        },
        "c4876bb5c45f48678ac8cf3f79d9112c": {
          "model_module": "@jupyter-widgets/base",
          "model_name": "LayoutModel",
          "model_module_version": "1.2.0",
          "state": {
            "_model_module": "@jupyter-widgets/base",
            "_model_module_version": "1.2.0",
            "_model_name": "LayoutModel",
            "_view_count": null,
            "_view_module": "@jupyter-widgets/base",
            "_view_module_version": "1.2.0",
            "_view_name": "LayoutView",
            "align_content": null,
            "align_items": null,
            "align_self": null,
            "border": null,
            "bottom": null,
            "display": null,
            "flex": null,
            "flex_flow": null,
            "grid_area": null,
            "grid_auto_columns": null,
            "grid_auto_flow": null,
            "grid_auto_rows": null,
            "grid_column": null,
            "grid_gap": null,
            "grid_row": null,
            "grid_template_areas": null,
            "grid_template_columns": null,
            "grid_template_rows": null,
            "height": null,
            "justify_content": null,
            "justify_items": null,
            "left": null,
            "margin": null,
            "max_height": null,
            "max_width": null,
            "min_height": null,
            "min_width": null,
            "object_fit": null,
            "object_position": null,
            "order": null,
            "overflow": null,
            "overflow_x": null,
            "overflow_y": null,
            "padding": null,
            "right": null,
            "top": null,
            "visibility": null,
            "width": null
          }
        },
        "248b85e387334ae6838da18f060011d5": {
          "model_module": "@jupyter-widgets/base",
          "model_name": "LayoutModel",
          "model_module_version": "1.2.0",
          "state": {
            "_model_module": "@jupyter-widgets/base",
            "_model_module_version": "1.2.0",
            "_model_name": "LayoutModel",
            "_view_count": null,
            "_view_module": "@jupyter-widgets/base",
            "_view_module_version": "1.2.0",
            "_view_name": "LayoutView",
            "align_content": null,
            "align_items": null,
            "align_self": null,
            "border": null,
            "bottom": null,
            "display": null,
            "flex": null,
            "flex_flow": null,
            "grid_area": null,
            "grid_auto_columns": null,
            "grid_auto_flow": null,
            "grid_auto_rows": null,
            "grid_column": null,
            "grid_gap": null,
            "grid_row": null,
            "grid_template_areas": null,
            "grid_template_columns": null,
            "grid_template_rows": null,
            "height": null,
            "justify_content": null,
            "justify_items": null,
            "left": null,
            "margin": null,
            "max_height": null,
            "max_width": null,
            "min_height": null,
            "min_width": null,
            "object_fit": null,
            "object_position": null,
            "order": null,
            "overflow": null,
            "overflow_x": null,
            "overflow_y": null,
            "padding": null,
            "right": null,
            "top": null,
            "visibility": null,
            "width": null
          }
        },
        "6a8a570665c849bba75b998d6244076d": {
          "model_module": "@jupyter-widgets/controls",
          "model_name": "DescriptionStyleModel",
          "model_module_version": "1.5.0",
          "state": {
            "_model_module": "@jupyter-widgets/controls",
            "_model_module_version": "1.5.0",
            "_model_name": "DescriptionStyleModel",
            "_view_count": null,
            "_view_module": "@jupyter-widgets/base",
            "_view_module_version": "1.2.0",
            "_view_name": "StyleView",
            "description_width": ""
          }
        },
        "351624aa56184318967a0b17e628f143": {
          "model_module": "@jupyter-widgets/base",
          "model_name": "LayoutModel",
          "model_module_version": "1.2.0",
          "state": {
            "_model_module": "@jupyter-widgets/base",
            "_model_module_version": "1.2.0",
            "_model_name": "LayoutModel",
            "_view_count": null,
            "_view_module": "@jupyter-widgets/base",
            "_view_module_version": "1.2.0",
            "_view_name": "LayoutView",
            "align_content": null,
            "align_items": null,
            "align_self": null,
            "border": null,
            "bottom": null,
            "display": null,
            "flex": null,
            "flex_flow": null,
            "grid_area": null,
            "grid_auto_columns": null,
            "grid_auto_flow": null,
            "grid_auto_rows": null,
            "grid_column": null,
            "grid_gap": null,
            "grid_row": null,
            "grid_template_areas": null,
            "grid_template_columns": null,
            "grid_template_rows": null,
            "height": null,
            "justify_content": null,
            "justify_items": null,
            "left": null,
            "margin": null,
            "max_height": null,
            "max_width": null,
            "min_height": null,
            "min_width": null,
            "object_fit": null,
            "object_position": null,
            "order": null,
            "overflow": null,
            "overflow_x": null,
            "overflow_y": null,
            "padding": null,
            "right": null,
            "top": null,
            "visibility": null,
            "width": null
          }
        },
        "78a21b31caec449098aea387f81cffdc": {
          "model_module": "@jupyter-widgets/controls",
          "model_name": "ProgressStyleModel",
          "model_module_version": "1.5.0",
          "state": {
            "_model_module": "@jupyter-widgets/controls",
            "_model_module_version": "1.5.0",
            "_model_name": "ProgressStyleModel",
            "_view_count": null,
            "_view_module": "@jupyter-widgets/base",
            "_view_module_version": "1.2.0",
            "_view_name": "StyleView",
            "bar_color": null,
            "description_width": ""
          }
        },
        "56cb41749dd640e2869630e0cb4b7b39": {
          "model_module": "@jupyter-widgets/base",
          "model_name": "LayoutModel",
          "model_module_version": "1.2.0",
          "state": {
            "_model_module": "@jupyter-widgets/base",
            "_model_module_version": "1.2.0",
            "_model_name": "LayoutModel",
            "_view_count": null,
            "_view_module": "@jupyter-widgets/base",
            "_view_module_version": "1.2.0",
            "_view_name": "LayoutView",
            "align_content": null,
            "align_items": null,
            "align_self": null,
            "border": null,
            "bottom": null,
            "display": null,
            "flex": null,
            "flex_flow": null,
            "grid_area": null,
            "grid_auto_columns": null,
            "grid_auto_flow": null,
            "grid_auto_rows": null,
            "grid_column": null,
            "grid_gap": null,
            "grid_row": null,
            "grid_template_areas": null,
            "grid_template_columns": null,
            "grid_template_rows": null,
            "height": null,
            "justify_content": null,
            "justify_items": null,
            "left": null,
            "margin": null,
            "max_height": null,
            "max_width": null,
            "min_height": null,
            "min_width": null,
            "object_fit": null,
            "object_position": null,
            "order": null,
            "overflow": null,
            "overflow_x": null,
            "overflow_y": null,
            "padding": null,
            "right": null,
            "top": null,
            "visibility": null,
            "width": null
          }
        },
        "7facb0d81d0d4e20b049e0ee8d8abcc0": {
          "model_module": "@jupyter-widgets/controls",
          "model_name": "DescriptionStyleModel",
          "model_module_version": "1.5.0",
          "state": {
            "_model_module": "@jupyter-widgets/controls",
            "_model_module_version": "1.5.0",
            "_model_name": "DescriptionStyleModel",
            "_view_count": null,
            "_view_module": "@jupyter-widgets/base",
            "_view_module_version": "1.2.0",
            "_view_name": "StyleView",
            "description_width": ""
          }
        },
        "24f787894b804967aaf61e84b5d0f0a8": {
          "model_module": "@jupyter-widgets/controls",
          "model_name": "HBoxModel",
          "model_module_version": "1.5.0",
          "state": {
            "_dom_classes": [],
            "_model_module": "@jupyter-widgets/controls",
            "_model_module_version": "1.5.0",
            "_model_name": "HBoxModel",
            "_view_count": null,
            "_view_module": "@jupyter-widgets/controls",
            "_view_module_version": "1.5.0",
            "_view_name": "HBoxView",
            "box_style": "",
            "children": [
              "IPY_MODEL_a04c6765a4b3485796ec3e80f2182123",
              "IPY_MODEL_f10534751cc3492da27ff953be8cc148",
              "IPY_MODEL_3657514fa603410797b3e04edeeac010"
            ],
            "layout": "IPY_MODEL_830f2e6ea8ba458d9b5c2aaca93c889c"
          }
        },
        "a04c6765a4b3485796ec3e80f2182123": {
          "model_module": "@jupyter-widgets/controls",
          "model_name": "HTMLModel",
          "model_module_version": "1.5.0",
          "state": {
            "_dom_classes": [],
            "_model_module": "@jupyter-widgets/controls",
            "_model_module_version": "1.5.0",
            "_model_name": "HTMLModel",
            "_view_count": null,
            "_view_module": "@jupyter-widgets/controls",
            "_view_module_version": "1.5.0",
            "_view_name": "HTMLView",
            "description": "",
            "description_tooltip": null,
            "layout": "IPY_MODEL_0d5c4df25ea042f994bdcd1caf313529",
            "placeholder": "​",
            "style": "IPY_MODEL_358a6a8c9e4c4abeaacaa86b6b99d96d",
            "value": "model.safetensors: 100%"
          }
        },
        "f10534751cc3492da27ff953be8cc148": {
          "model_module": "@jupyter-widgets/controls",
          "model_name": "FloatProgressModel",
          "model_module_version": "1.5.0",
          "state": {
            "_dom_classes": [],
            "_model_module": "@jupyter-widgets/controls",
            "_model_module_version": "1.5.0",
            "_model_name": "FloatProgressModel",
            "_view_count": null,
            "_view_module": "@jupyter-widgets/controls",
            "_view_module_version": "1.5.0",
            "_view_name": "ProgressView",
            "bar_style": "success",
            "description": "",
            "description_tooltip": null,
            "layout": "IPY_MODEL_298c7c5e21e040c39565b9553d69a758",
            "max": 711450722,
            "min": 0,
            "orientation": "horizontal",
            "style": "IPY_MODEL_abe254ebb8934198b284bdda92999d7b",
            "value": 711450722
          }
        },
        "3657514fa603410797b3e04edeeac010": {
          "model_module": "@jupyter-widgets/controls",
          "model_name": "HTMLModel",
          "model_module_version": "1.5.0",
          "state": {
            "_dom_classes": [],
            "_model_module": "@jupyter-widgets/controls",
            "_model_module_version": "1.5.0",
            "_model_name": "HTMLModel",
            "_view_count": null,
            "_view_module": "@jupyter-widgets/controls",
            "_view_module_version": "1.5.0",
            "_view_name": "HTMLView",
            "description": "",
            "description_tooltip": null,
            "layout": "IPY_MODEL_a790026ea8c7485b9b6440eae682d27d",
            "placeholder": "​",
            "style": "IPY_MODEL_1090d94909d04329bb15793053c8847f",
            "value": " 711M/711M [00:06&lt;00:00, 180MB/s]"
          }
        },
        "830f2e6ea8ba458d9b5c2aaca93c889c": {
          "model_module": "@jupyter-widgets/base",
          "model_name": "LayoutModel",
          "model_module_version": "1.2.0",
          "state": {
            "_model_module": "@jupyter-widgets/base",
            "_model_module_version": "1.2.0",
            "_model_name": "LayoutModel",
            "_view_count": null,
            "_view_module": "@jupyter-widgets/base",
            "_view_module_version": "1.2.0",
            "_view_name": "LayoutView",
            "align_content": null,
            "align_items": null,
            "align_self": null,
            "border": null,
            "bottom": null,
            "display": null,
            "flex": null,
            "flex_flow": null,
            "grid_area": null,
            "grid_auto_columns": null,
            "grid_auto_flow": null,
            "grid_auto_rows": null,
            "grid_column": null,
            "grid_gap": null,
            "grid_row": null,
            "grid_template_areas": null,
            "grid_template_columns": null,
            "grid_template_rows": null,
            "height": null,
            "justify_content": null,
            "justify_items": null,
            "left": null,
            "margin": null,
            "max_height": null,
            "max_width": null,
            "min_height": null,
            "min_width": null,
            "object_fit": null,
            "object_position": null,
            "order": null,
            "overflow": null,
            "overflow_x": null,
            "overflow_y": null,
            "padding": null,
            "right": null,
            "top": null,
            "visibility": null,
            "width": null
          }
        },
        "0d5c4df25ea042f994bdcd1caf313529": {
          "model_module": "@jupyter-widgets/base",
          "model_name": "LayoutModel",
          "model_module_version": "1.2.0",
          "state": {
            "_model_module": "@jupyter-widgets/base",
            "_model_module_version": "1.2.0",
            "_model_name": "LayoutModel",
            "_view_count": null,
            "_view_module": "@jupyter-widgets/base",
            "_view_module_version": "1.2.0",
            "_view_name": "LayoutView",
            "align_content": null,
            "align_items": null,
            "align_self": null,
            "border": null,
            "bottom": null,
            "display": null,
            "flex": null,
            "flex_flow": null,
            "grid_area": null,
            "grid_auto_columns": null,
            "grid_auto_flow": null,
            "grid_auto_rows": null,
            "grid_column": null,
            "grid_gap": null,
            "grid_row": null,
            "grid_template_areas": null,
            "grid_template_columns": null,
            "grid_template_rows": null,
            "height": null,
            "justify_content": null,
            "justify_items": null,
            "left": null,
            "margin": null,
            "max_height": null,
            "max_width": null,
            "min_height": null,
            "min_width": null,
            "object_fit": null,
            "object_position": null,
            "order": null,
            "overflow": null,
            "overflow_x": null,
            "overflow_y": null,
            "padding": null,
            "right": null,
            "top": null,
            "visibility": null,
            "width": null
          }
        },
        "358a6a8c9e4c4abeaacaa86b6b99d96d": {
          "model_module": "@jupyter-widgets/controls",
          "model_name": "DescriptionStyleModel",
          "model_module_version": "1.5.0",
          "state": {
            "_model_module": "@jupyter-widgets/controls",
            "_model_module_version": "1.5.0",
            "_model_name": "DescriptionStyleModel",
            "_view_count": null,
            "_view_module": "@jupyter-widgets/base",
            "_view_module_version": "1.2.0",
            "_view_name": "StyleView",
            "description_width": ""
          }
        },
        "298c7c5e21e040c39565b9553d69a758": {
          "model_module": "@jupyter-widgets/base",
          "model_name": "LayoutModel",
          "model_module_version": "1.2.0",
          "state": {
            "_model_module": "@jupyter-widgets/base",
            "_model_module_version": "1.2.0",
            "_model_name": "LayoutModel",
            "_view_count": null,
            "_view_module": "@jupyter-widgets/base",
            "_view_module_version": "1.2.0",
            "_view_name": "LayoutView",
            "align_content": null,
            "align_items": null,
            "align_self": null,
            "border": null,
            "bottom": null,
            "display": null,
            "flex": null,
            "flex_flow": null,
            "grid_area": null,
            "grid_auto_columns": null,
            "grid_auto_flow": null,
            "grid_auto_rows": null,
            "grid_column": null,
            "grid_gap": null,
            "grid_row": null,
            "grid_template_areas": null,
            "grid_template_columns": null,
            "grid_template_rows": null,
            "height": null,
            "justify_content": null,
            "justify_items": null,
            "left": null,
            "margin": null,
            "max_height": null,
            "max_width": null,
            "min_height": null,
            "min_width": null,
            "object_fit": null,
            "object_position": null,
            "order": null,
            "overflow": null,
            "overflow_x": null,
            "overflow_y": null,
            "padding": null,
            "right": null,
            "top": null,
            "visibility": null,
            "width": null
          }
        },
        "abe254ebb8934198b284bdda92999d7b": {
          "model_module": "@jupyter-widgets/controls",
          "model_name": "ProgressStyleModel",
          "model_module_version": "1.5.0",
          "state": {
            "_model_module": "@jupyter-widgets/controls",
            "_model_module_version": "1.5.0",
            "_model_name": "ProgressStyleModel",
            "_view_count": null,
            "_view_module": "@jupyter-widgets/base",
            "_view_module_version": "1.2.0",
            "_view_name": "StyleView",
            "bar_color": null,
            "description_width": ""
          }
        },
        "a790026ea8c7485b9b6440eae682d27d": {
          "model_module": "@jupyter-widgets/base",
          "model_name": "LayoutModel",
          "model_module_version": "1.2.0",
          "state": {
            "_model_module": "@jupyter-widgets/base",
            "_model_module_version": "1.2.0",
            "_model_name": "LayoutModel",
            "_view_count": null,
            "_view_module": "@jupyter-widgets/base",
            "_view_module_version": "1.2.0",
            "_view_name": "LayoutView",
            "align_content": null,
            "align_items": null,
            "align_self": null,
            "border": null,
            "bottom": null,
            "display": null,
            "flex": null,
            "flex_flow": null,
            "grid_area": null,
            "grid_auto_columns": null,
            "grid_auto_flow": null,
            "grid_auto_rows": null,
            "grid_column": null,
            "grid_gap": null,
            "grid_row": null,
            "grid_template_areas": null,
            "grid_template_columns": null,
            "grid_template_rows": null,
            "height": null,
            "justify_content": null,
            "justify_items": null,
            "left": null,
            "margin": null,
            "max_height": null,
            "max_width": null,
            "min_height": null,
            "min_width": null,
            "object_fit": null,
            "object_position": null,
            "order": null,
            "overflow": null,
            "overflow_x": null,
            "overflow_y": null,
            "padding": null,
            "right": null,
            "top": null,
            "visibility": null,
            "width": null
          }
        },
        "1090d94909d04329bb15793053c8847f": {
          "model_module": "@jupyter-widgets/controls",
          "model_name": "DescriptionStyleModel",
          "model_module_version": "1.5.0",
          "state": {
            "_model_module": "@jupyter-widgets/controls",
            "_model_module_version": "1.5.0",
            "_model_name": "DescriptionStyleModel",
            "_view_count": null,
            "_view_module": "@jupyter-widgets/base",
            "_view_module_version": "1.2.0",
            "_view_name": "StyleView",
            "description_width": ""
          }
        },
        "fb2e9f828b7449568c2ba24a9c05fb40": {
          "model_module": "@jupyter-widgets/controls",
          "model_name": "HBoxModel",
          "model_module_version": "1.5.0",
          "state": {
            "_dom_classes": [],
            "_model_module": "@jupyter-widgets/controls",
            "_model_module_version": "1.5.0",
            "_model_name": "HBoxModel",
            "_view_count": null,
            "_view_module": "@jupyter-widgets/controls",
            "_view_module_version": "1.5.0",
            "_view_name": "HBoxView",
            "box_style": "",
            "children": [
              "IPY_MODEL_09eb55b2c927440baa393cd8658d153f",
              "IPY_MODEL_09637def72e04fa58cabd16601b84fd4",
              "IPY_MODEL_23e1742ae09b4b54b07290b0bd40bfd2"
            ],
            "layout": "IPY_MODEL_d0f99d1c0bb44f7d82daa42fdcf7d343"
          }
        },
        "09eb55b2c927440baa393cd8658d153f": {
          "model_module": "@jupyter-widgets/controls",
          "model_name": "HTMLModel",
          "model_module_version": "1.5.0",
          "state": {
            "_dom_classes": [],
            "_model_module": "@jupyter-widgets/controls",
            "_model_module_version": "1.5.0",
            "_model_name": "HTMLModel",
            "_view_count": null,
            "_view_module": "@jupyter-widgets/controls",
            "_view_module_version": "1.5.0",
            "_view_name": "HTMLView",
            "description": "",
            "description_tooltip": null,
            "layout": "IPY_MODEL_6580b1a16647423ab86cd473986d7c57",
            "placeholder": "​",
            "style": "IPY_MODEL_51481c8bbc8f4fd5b4c37be760561408",
            "value": "tokenizer_config.json: 100%"
          }
        },
        "09637def72e04fa58cabd16601b84fd4": {
          "model_module": "@jupyter-widgets/controls",
          "model_name": "FloatProgressModel",
          "model_module_version": "1.5.0",
          "state": {
            "_dom_classes": [],
            "_model_module": "@jupyter-widgets/controls",
            "_model_module_version": "1.5.0",
            "_model_name": "FloatProgressModel",
            "_view_count": null,
            "_view_module": "@jupyter-widgets/controls",
            "_view_module_version": "1.5.0",
            "_view_name": "ProgressView",
            "bar_style": "success",
            "description": "",
            "description_tooltip": null,
            "layout": "IPY_MODEL_6519d5675e0641a8969270cee6d95f0b",
            "max": 499,
            "min": 0,
            "orientation": "horizontal",
            "style": "IPY_MODEL_4f3ba6cb6c5d4ba7be4f3133da2ca2cc",
            "value": 499
          }
        },
        "23e1742ae09b4b54b07290b0bd40bfd2": {
          "model_module": "@jupyter-widgets/controls",
          "model_name": "HTMLModel",
          "model_module_version": "1.5.0",
          "state": {
            "_dom_classes": [],
            "_model_module": "@jupyter-widgets/controls",
            "_model_module_version": "1.5.0",
            "_model_name": "HTMLModel",
            "_view_count": null,
            "_view_module": "@jupyter-widgets/controls",
            "_view_module_version": "1.5.0",
            "_view_name": "HTMLView",
            "description": "",
            "description_tooltip": null,
            "layout": "IPY_MODEL_ffabb6dad9c64b6dbec0bb1cbb22c303",
            "placeholder": "​",
            "style": "IPY_MODEL_7378453e7f3543b0a16cd94c852f8d0c",
            "value": " 499/499 [00:00&lt;00:00, 44.1kB/s]"
          }
        },
        "d0f99d1c0bb44f7d82daa42fdcf7d343": {
          "model_module": "@jupyter-widgets/base",
          "model_name": "LayoutModel",
          "model_module_version": "1.2.0",
          "state": {
            "_model_module": "@jupyter-widgets/base",
            "_model_module_version": "1.2.0",
            "_model_name": "LayoutModel",
            "_view_count": null,
            "_view_module": "@jupyter-widgets/base",
            "_view_module_version": "1.2.0",
            "_view_name": "LayoutView",
            "align_content": null,
            "align_items": null,
            "align_self": null,
            "border": null,
            "bottom": null,
            "display": null,
            "flex": null,
            "flex_flow": null,
            "grid_area": null,
            "grid_auto_columns": null,
            "grid_auto_flow": null,
            "grid_auto_rows": null,
            "grid_column": null,
            "grid_gap": null,
            "grid_row": null,
            "grid_template_areas": null,
            "grid_template_columns": null,
            "grid_template_rows": null,
            "height": null,
            "justify_content": null,
            "justify_items": null,
            "left": null,
            "margin": null,
            "max_height": null,
            "max_width": null,
            "min_height": null,
            "min_width": null,
            "object_fit": null,
            "object_position": null,
            "order": null,
            "overflow": null,
            "overflow_x": null,
            "overflow_y": null,
            "padding": null,
            "right": null,
            "top": null,
            "visibility": null,
            "width": null
          }
        },
        "6580b1a16647423ab86cd473986d7c57": {
          "model_module": "@jupyter-widgets/base",
          "model_name": "LayoutModel",
          "model_module_version": "1.2.0",
          "state": {
            "_model_module": "@jupyter-widgets/base",
            "_model_module_version": "1.2.0",
            "_model_name": "LayoutModel",
            "_view_count": null,
            "_view_module": "@jupyter-widgets/base",
            "_view_module_version": "1.2.0",
            "_view_name": "LayoutView",
            "align_content": null,
            "align_items": null,
            "align_self": null,
            "border": null,
            "bottom": null,
            "display": null,
            "flex": null,
            "flex_flow": null,
            "grid_area": null,
            "grid_auto_columns": null,
            "grid_auto_flow": null,
            "grid_auto_rows": null,
            "grid_column": null,
            "grid_gap": null,
            "grid_row": null,
            "grid_template_areas": null,
            "grid_template_columns": null,
            "grid_template_rows": null,
            "height": null,
            "justify_content": null,
            "justify_items": null,
            "left": null,
            "margin": null,
            "max_height": null,
            "max_width": null,
            "min_height": null,
            "min_width": null,
            "object_fit": null,
            "object_position": null,
            "order": null,
            "overflow": null,
            "overflow_x": null,
            "overflow_y": null,
            "padding": null,
            "right": null,
            "top": null,
            "visibility": null,
            "width": null
          }
        },
        "51481c8bbc8f4fd5b4c37be760561408": {
          "model_module": "@jupyter-widgets/controls",
          "model_name": "DescriptionStyleModel",
          "model_module_version": "1.5.0",
          "state": {
            "_model_module": "@jupyter-widgets/controls",
            "_model_module_version": "1.5.0",
            "_model_name": "DescriptionStyleModel",
            "_view_count": null,
            "_view_module": "@jupyter-widgets/base",
            "_view_module_version": "1.2.0",
            "_view_name": "StyleView",
            "description_width": ""
          }
        },
        "6519d5675e0641a8969270cee6d95f0b": {
          "model_module": "@jupyter-widgets/base",
          "model_name": "LayoutModel",
          "model_module_version": "1.2.0",
          "state": {
            "_model_module": "@jupyter-widgets/base",
            "_model_module_version": "1.2.0",
            "_model_name": "LayoutModel",
            "_view_count": null,
            "_view_module": "@jupyter-widgets/base",
            "_view_module_version": "1.2.0",
            "_view_name": "LayoutView",
            "align_content": null,
            "align_items": null,
            "align_self": null,
            "border": null,
            "bottom": null,
            "display": null,
            "flex": null,
            "flex_flow": null,
            "grid_area": null,
            "grid_auto_columns": null,
            "grid_auto_flow": null,
            "grid_auto_rows": null,
            "grid_column": null,
            "grid_gap": null,
            "grid_row": null,
            "grid_template_areas": null,
            "grid_template_columns": null,
            "grid_template_rows": null,
            "height": null,
            "justify_content": null,
            "justify_items": null,
            "left": null,
            "margin": null,
            "max_height": null,
            "max_width": null,
            "min_height": null,
            "min_width": null,
            "object_fit": null,
            "object_position": null,
            "order": null,
            "overflow": null,
            "overflow_x": null,
            "overflow_y": null,
            "padding": null,
            "right": null,
            "top": null,
            "visibility": null,
            "width": null
          }
        },
        "4f3ba6cb6c5d4ba7be4f3133da2ca2cc": {
          "model_module": "@jupyter-widgets/controls",
          "model_name": "ProgressStyleModel",
          "model_module_version": "1.5.0",
          "state": {
            "_model_module": "@jupyter-widgets/controls",
            "_model_module_version": "1.5.0",
            "_model_name": "ProgressStyleModel",
            "_view_count": null,
            "_view_module": "@jupyter-widgets/base",
            "_view_module_version": "1.2.0",
            "_view_name": "StyleView",
            "bar_color": null,
            "description_width": ""
          }
        },
        "ffabb6dad9c64b6dbec0bb1cbb22c303": {
          "model_module": "@jupyter-widgets/base",
          "model_name": "LayoutModel",
          "model_module_version": "1.2.0",
          "state": {
            "_model_module": "@jupyter-widgets/base",
            "_model_module_version": "1.2.0",
            "_model_name": "LayoutModel",
            "_view_count": null,
            "_view_module": "@jupyter-widgets/base",
            "_view_module_version": "1.2.0",
            "_view_name": "LayoutView",
            "align_content": null,
            "align_items": null,
            "align_self": null,
            "border": null,
            "bottom": null,
            "display": null,
            "flex": null,
            "flex_flow": null,
            "grid_area": null,
            "grid_auto_columns": null,
            "grid_auto_flow": null,
            "grid_auto_rows": null,
            "grid_column": null,
            "grid_gap": null,
            "grid_row": null,
            "grid_template_areas": null,
            "grid_template_columns": null,
            "grid_template_rows": null,
            "height": null,
            "justify_content": null,
            "justify_items": null,
            "left": null,
            "margin": null,
            "max_height": null,
            "max_width": null,
            "min_height": null,
            "min_width": null,
            "object_fit": null,
            "object_position": null,
            "order": null,
            "overflow": null,
            "overflow_x": null,
            "overflow_y": null,
            "padding": null,
            "right": null,
            "top": null,
            "visibility": null,
            "width": null
          }
        },
        "7378453e7f3543b0a16cd94c852f8d0c": {
          "model_module": "@jupyter-widgets/controls",
          "model_name": "DescriptionStyleModel",
          "model_module_version": "1.5.0",
          "state": {
            "_model_module": "@jupyter-widgets/controls",
            "_model_module_version": "1.5.0",
            "_model_name": "DescriptionStyleModel",
            "_view_count": null,
            "_view_module": "@jupyter-widgets/base",
            "_view_module_version": "1.2.0",
            "_view_name": "StyleView",
            "description_width": ""
          }
        },
        "5d102c645a904a198dae60196de92bed": {
          "model_module": "@jupyter-widgets/controls",
          "model_name": "HBoxModel",
          "model_module_version": "1.5.0",
          "state": {
            "_dom_classes": [],
            "_model_module": "@jupyter-widgets/controls",
            "_model_module_version": "1.5.0",
            "_model_name": "HBoxModel",
            "_view_count": null,
            "_view_module": "@jupyter-widgets/controls",
            "_view_module_version": "1.5.0",
            "_view_name": "HBoxView",
            "box_style": "",
            "children": [
              "IPY_MODEL_a7174d45f59f46b8b44cf7f27673a5b5",
              "IPY_MODEL_580b4303b4854e10aaa1e7c2e7510ace",
              "IPY_MODEL_744f5bbd182d4e848793246feace5138"
            ],
            "layout": "IPY_MODEL_ecab6f79b2714958b27db40fc799fa85"
          }
        },
        "a7174d45f59f46b8b44cf7f27673a5b5": {
          "model_module": "@jupyter-widgets/controls",
          "model_name": "HTMLModel",
          "model_module_version": "1.5.0",
          "state": {
            "_dom_classes": [],
            "_model_module": "@jupyter-widgets/controls",
            "_model_module_version": "1.5.0",
            "_model_name": "HTMLModel",
            "_view_count": null,
            "_view_module": "@jupyter-widgets/controls",
            "_view_module_version": "1.5.0",
            "_view_name": "HTMLView",
            "description": "",
            "description_tooltip": null,
            "layout": "IPY_MODEL_ef675c214dd841f2a80be434efc2cde0",
            "placeholder": "​",
            "style": "IPY_MODEL_011136bf12ef4897b6579f420f4d2417",
            "value": "vocab.txt: 100%"
          }
        },
        "580b4303b4854e10aaa1e7c2e7510ace": {
          "model_module": "@jupyter-widgets/controls",
          "model_name": "FloatProgressModel",
          "model_module_version": "1.5.0",
          "state": {
            "_dom_classes": [],
            "_model_module": "@jupyter-widgets/controls",
            "_model_module_version": "1.5.0",
            "_model_name": "FloatProgressModel",
            "_view_count": null,
            "_view_module": "@jupyter-widgets/controls",
            "_view_module_version": "1.5.0",
            "_view_name": "ProgressView",
            "bar_style": "success",
            "description": "",
            "description_tooltip": null,
            "layout": "IPY_MODEL_2f86966d25c34d5a8b1e5b8ac7c37133",
            "max": 1404983,
            "min": 0,
            "orientation": "horizontal",
            "style": "IPY_MODEL_80f9059a1f80471f92152382a7e818f1",
            "value": 1404983
          }
        },
        "744f5bbd182d4e848793246feace5138": {
          "model_module": "@jupyter-widgets/controls",
          "model_name": "HTMLModel",
          "model_module_version": "1.5.0",
          "state": {
            "_dom_classes": [],
            "_model_module": "@jupyter-widgets/controls",
            "_model_module_version": "1.5.0",
            "_model_name": "HTMLModel",
            "_view_count": null,
            "_view_module": "@jupyter-widgets/controls",
            "_view_module_version": "1.5.0",
            "_view_name": "HTMLView",
            "description": "",
            "description_tooltip": null,
            "layout": "IPY_MODEL_a6815041a0c74448a78c68937028c32c",
            "placeholder": "​",
            "style": "IPY_MODEL_a109bed0226341cd96c5e8bbb2e09454",
            "value": " 1.40M/1.40M [00:00&lt;00:00, 7.04MB/s]"
          }
        },
        "ecab6f79b2714958b27db40fc799fa85": {
          "model_module": "@jupyter-widgets/base",
          "model_name": "LayoutModel",
          "model_module_version": "1.2.0",
          "state": {
            "_model_module": "@jupyter-widgets/base",
            "_model_module_version": "1.2.0",
            "_model_name": "LayoutModel",
            "_view_count": null,
            "_view_module": "@jupyter-widgets/base",
            "_view_module_version": "1.2.0",
            "_view_name": "LayoutView",
            "align_content": null,
            "align_items": null,
            "align_self": null,
            "border": null,
            "bottom": null,
            "display": null,
            "flex": null,
            "flex_flow": null,
            "grid_area": null,
            "grid_auto_columns": null,
            "grid_auto_flow": null,
            "grid_auto_rows": null,
            "grid_column": null,
            "grid_gap": null,
            "grid_row": null,
            "grid_template_areas": null,
            "grid_template_columns": null,
            "grid_template_rows": null,
            "height": null,
            "justify_content": null,
            "justify_items": null,
            "left": null,
            "margin": null,
            "max_height": null,
            "max_width": null,
            "min_height": null,
            "min_width": null,
            "object_fit": null,
            "object_position": null,
            "order": null,
            "overflow": null,
            "overflow_x": null,
            "overflow_y": null,
            "padding": null,
            "right": null,
            "top": null,
            "visibility": null,
            "width": null
          }
        },
        "ef675c214dd841f2a80be434efc2cde0": {
          "model_module": "@jupyter-widgets/base",
          "model_name": "LayoutModel",
          "model_module_version": "1.2.0",
          "state": {
            "_model_module": "@jupyter-widgets/base",
            "_model_module_version": "1.2.0",
            "_model_name": "LayoutModel",
            "_view_count": null,
            "_view_module": "@jupyter-widgets/base",
            "_view_module_version": "1.2.0",
            "_view_name": "LayoutView",
            "align_content": null,
            "align_items": null,
            "align_self": null,
            "border": null,
            "bottom": null,
            "display": null,
            "flex": null,
            "flex_flow": null,
            "grid_area": null,
            "grid_auto_columns": null,
            "grid_auto_flow": null,
            "grid_auto_rows": null,
            "grid_column": null,
            "grid_gap": null,
            "grid_row": null,
            "grid_template_areas": null,
            "grid_template_columns": null,
            "grid_template_rows": null,
            "height": null,
            "justify_content": null,
            "justify_items": null,
            "left": null,
            "margin": null,
            "max_height": null,
            "max_width": null,
            "min_height": null,
            "min_width": null,
            "object_fit": null,
            "object_position": null,
            "order": null,
            "overflow": null,
            "overflow_x": null,
            "overflow_y": null,
            "padding": null,
            "right": null,
            "top": null,
            "visibility": null,
            "width": null
          }
        },
        "011136bf12ef4897b6579f420f4d2417": {
          "model_module": "@jupyter-widgets/controls",
          "model_name": "DescriptionStyleModel",
          "model_module_version": "1.5.0",
          "state": {
            "_model_module": "@jupyter-widgets/controls",
            "_model_module_version": "1.5.0",
            "_model_name": "DescriptionStyleModel",
            "_view_count": null,
            "_view_module": "@jupyter-widgets/base",
            "_view_module_version": "1.2.0",
            "_view_name": "StyleView",
            "description_width": ""
          }
        },
        "2f86966d25c34d5a8b1e5b8ac7c37133": {
          "model_module": "@jupyter-widgets/base",
          "model_name": "LayoutModel",
          "model_module_version": "1.2.0",
          "state": {
            "_model_module": "@jupyter-widgets/base",
            "_model_module_version": "1.2.0",
            "_model_name": "LayoutModel",
            "_view_count": null,
            "_view_module": "@jupyter-widgets/base",
            "_view_module_version": "1.2.0",
            "_view_name": "LayoutView",
            "align_content": null,
            "align_items": null,
            "align_self": null,
            "border": null,
            "bottom": null,
            "display": null,
            "flex": null,
            "flex_flow": null,
            "grid_area": null,
            "grid_auto_columns": null,
            "grid_auto_flow": null,
            "grid_auto_rows": null,
            "grid_column": null,
            "grid_gap": null,
            "grid_row": null,
            "grid_template_areas": null,
            "grid_template_columns": null,
            "grid_template_rows": null,
            "height": null,
            "justify_content": null,
            "justify_items": null,
            "left": null,
            "margin": null,
            "max_height": null,
            "max_width": null,
            "min_height": null,
            "min_width": null,
            "object_fit": null,
            "object_position": null,
            "order": null,
            "overflow": null,
            "overflow_x": null,
            "overflow_y": null,
            "padding": null,
            "right": null,
            "top": null,
            "visibility": null,
            "width": null
          }
        },
        "80f9059a1f80471f92152382a7e818f1": {
          "model_module": "@jupyter-widgets/controls",
          "model_name": "ProgressStyleModel",
          "model_module_version": "1.5.0",
          "state": {
            "_model_module": "@jupyter-widgets/controls",
            "_model_module_version": "1.5.0",
            "_model_name": "ProgressStyleModel",
            "_view_count": null,
            "_view_module": "@jupyter-widgets/base",
            "_view_module_version": "1.2.0",
            "_view_name": "StyleView",
            "bar_color": null,
            "description_width": ""
          }
        },
        "a6815041a0c74448a78c68937028c32c": {
          "model_module": "@jupyter-widgets/base",
          "model_name": "LayoutModel",
          "model_module_version": "1.2.0",
          "state": {
            "_model_module": "@jupyter-widgets/base",
            "_model_module_version": "1.2.0",
            "_model_name": "LayoutModel",
            "_view_count": null,
            "_view_module": "@jupyter-widgets/base",
            "_view_module_version": "1.2.0",
            "_view_name": "LayoutView",
            "align_content": null,
            "align_items": null,
            "align_self": null,
            "border": null,
            "bottom": null,
            "display": null,
            "flex": null,
            "flex_flow": null,
            "grid_area": null,
            "grid_auto_columns": null,
            "grid_auto_flow": null,
            "grid_auto_rows": null,
            "grid_column": null,
            "grid_gap": null,
            "grid_row": null,
            "grid_template_areas": null,
            "grid_template_columns": null,
            "grid_template_rows": null,
            "height": null,
            "justify_content": null,
            "justify_items": null,
            "left": null,
            "margin": null,
            "max_height": null,
            "max_width": null,
            "min_height": null,
            "min_width": null,
            "object_fit": null,
            "object_position": null,
            "order": null,
            "overflow": null,
            "overflow_x": null,
            "overflow_y": null,
            "padding": null,
            "right": null,
            "top": null,
            "visibility": null,
            "width": null
          }
        },
        "a109bed0226341cd96c5e8bbb2e09454": {
          "model_module": "@jupyter-widgets/controls",
          "model_name": "DescriptionStyleModel",
          "model_module_version": "1.5.0",
          "state": {
            "_model_module": "@jupyter-widgets/controls",
            "_model_module_version": "1.5.0",
            "_model_name": "DescriptionStyleModel",
            "_view_count": null,
            "_view_module": "@jupyter-widgets/base",
            "_view_module_version": "1.2.0",
            "_view_name": "StyleView",
            "description_width": ""
          }
        },
        "cc49c232c41e48b19ac73030336accc1": {
          "model_module": "@jupyter-widgets/controls",
          "model_name": "HBoxModel",
          "model_module_version": "1.5.0",
          "state": {
            "_dom_classes": [],
            "_model_module": "@jupyter-widgets/controls",
            "_model_module_version": "1.5.0",
            "_model_name": "HBoxModel",
            "_view_count": null,
            "_view_module": "@jupyter-widgets/controls",
            "_view_module_version": "1.5.0",
            "_view_name": "HBoxView",
            "box_style": "",
            "children": [
              "IPY_MODEL_695557e05f1f444c9d07b4f8659b480e",
              "IPY_MODEL_ad7f5f6c08be4a8b9d79cf653b373ce5",
              "IPY_MODEL_fb979ee5998642fc93b9d0da7f7d7cc8"
            ],
            "layout": "IPY_MODEL_0eadd9e3d5404190a02b67805705741c"
          }
        },
        "695557e05f1f444c9d07b4f8659b480e": {
          "model_module": "@jupyter-widgets/controls",
          "model_name": "HTMLModel",
          "model_module_version": "1.5.0",
          "state": {
            "_dom_classes": [],
            "_model_module": "@jupyter-widgets/controls",
            "_model_module_version": "1.5.0",
            "_model_name": "HTMLModel",
            "_view_count": null,
            "_view_module": "@jupyter-widgets/controls",
            "_view_module_version": "1.5.0",
            "_view_name": "HTMLView",
            "description": "",
            "description_tooltip": null,
            "layout": "IPY_MODEL_3f1ee8454860417c9d78ea7418e7337c",
            "placeholder": "​",
            "style": "IPY_MODEL_d586a34813474b7c8b243120a7096ec7",
            "value": "special_tokens_map.json: 100%"
          }
        },
        "ad7f5f6c08be4a8b9d79cf653b373ce5": {
          "model_module": "@jupyter-widgets/controls",
          "model_name": "FloatProgressModel",
          "model_module_version": "1.5.0",
          "state": {
            "_dom_classes": [],
            "_model_module": "@jupyter-widgets/controls",
            "_model_module_version": "1.5.0",
            "_model_name": "FloatProgressModel",
            "_view_count": null,
            "_view_module": "@jupyter-widgets/controls",
            "_view_module_version": "1.5.0",
            "_view_name": "ProgressView",
            "bar_style": "success",
            "description": "",
            "description_tooltip": null,
            "layout": "IPY_MODEL_db5d18e20a4949009f6558a699e83a5f",
            "max": 112,
            "min": 0,
            "orientation": "horizontal",
            "style": "IPY_MODEL_65fc7fd9b46e4199a5735039750b2bbe",
            "value": 112
          }
        },
        "fb979ee5998642fc93b9d0da7f7d7cc8": {
          "model_module": "@jupyter-widgets/controls",
          "model_name": "HTMLModel",
          "model_module_version": "1.5.0",
          "state": {
            "_dom_classes": [],
            "_model_module": "@jupyter-widgets/controls",
            "_model_module_version": "1.5.0",
            "_model_name": "HTMLModel",
            "_view_count": null,
            "_view_module": "@jupyter-widgets/controls",
            "_view_module_version": "1.5.0",
            "_view_name": "HTMLView",
            "description": "",
            "description_tooltip": null,
            "layout": "IPY_MODEL_7361949c1de24200a3fa94028ba71a11",
            "placeholder": "​",
            "style": "IPY_MODEL_0ae0bd3b759344baa4b58869a9f534d5",
            "value": " 112/112 [00:00&lt;00:00, 7.84kB/s]"
          }
        },
        "0eadd9e3d5404190a02b67805705741c": {
          "model_module": "@jupyter-widgets/base",
          "model_name": "LayoutModel",
          "model_module_version": "1.2.0",
          "state": {
            "_model_module": "@jupyter-widgets/base",
            "_model_module_version": "1.2.0",
            "_model_name": "LayoutModel",
            "_view_count": null,
            "_view_module": "@jupyter-widgets/base",
            "_view_module_version": "1.2.0",
            "_view_name": "LayoutView",
            "align_content": null,
            "align_items": null,
            "align_self": null,
            "border": null,
            "bottom": null,
            "display": null,
            "flex": null,
            "flex_flow": null,
            "grid_area": null,
            "grid_auto_columns": null,
            "grid_auto_flow": null,
            "grid_auto_rows": null,
            "grid_column": null,
            "grid_gap": null,
            "grid_row": null,
            "grid_template_areas": null,
            "grid_template_columns": null,
            "grid_template_rows": null,
            "height": null,
            "justify_content": null,
            "justify_items": null,
            "left": null,
            "margin": null,
            "max_height": null,
            "max_width": null,
            "min_height": null,
            "min_width": null,
            "object_fit": null,
            "object_position": null,
            "order": null,
            "overflow": null,
            "overflow_x": null,
            "overflow_y": null,
            "padding": null,
            "right": null,
            "top": null,
            "visibility": null,
            "width": null
          }
        },
        "3f1ee8454860417c9d78ea7418e7337c": {
          "model_module": "@jupyter-widgets/base",
          "model_name": "LayoutModel",
          "model_module_version": "1.2.0",
          "state": {
            "_model_module": "@jupyter-widgets/base",
            "_model_module_version": "1.2.0",
            "_model_name": "LayoutModel",
            "_view_count": null,
            "_view_module": "@jupyter-widgets/base",
            "_view_module_version": "1.2.0",
            "_view_name": "LayoutView",
            "align_content": null,
            "align_items": null,
            "align_self": null,
            "border": null,
            "bottom": null,
            "display": null,
            "flex": null,
            "flex_flow": null,
            "grid_area": null,
            "grid_auto_columns": null,
            "grid_auto_flow": null,
            "grid_auto_rows": null,
            "grid_column": null,
            "grid_gap": null,
            "grid_row": null,
            "grid_template_areas": null,
            "grid_template_columns": null,
            "grid_template_rows": null,
            "height": null,
            "justify_content": null,
            "justify_items": null,
            "left": null,
            "margin": null,
            "max_height": null,
            "max_width": null,
            "min_height": null,
            "min_width": null,
            "object_fit": null,
            "object_position": null,
            "order": null,
            "overflow": null,
            "overflow_x": null,
            "overflow_y": null,
            "padding": null,
            "right": null,
            "top": null,
            "visibility": null,
            "width": null
          }
        },
        "d586a34813474b7c8b243120a7096ec7": {
          "model_module": "@jupyter-widgets/controls",
          "model_name": "DescriptionStyleModel",
          "model_module_version": "1.5.0",
          "state": {
            "_model_module": "@jupyter-widgets/controls",
            "_model_module_version": "1.5.0",
            "_model_name": "DescriptionStyleModel",
            "_view_count": null,
            "_view_module": "@jupyter-widgets/base",
            "_view_module_version": "1.2.0",
            "_view_name": "StyleView",
            "description_width": ""
          }
        },
        "db5d18e20a4949009f6558a699e83a5f": {
          "model_module": "@jupyter-widgets/base",
          "model_name": "LayoutModel",
          "model_module_version": "1.2.0",
          "state": {
            "_model_module": "@jupyter-widgets/base",
            "_model_module_version": "1.2.0",
            "_model_name": "LayoutModel",
            "_view_count": null,
            "_view_module": "@jupyter-widgets/base",
            "_view_module_version": "1.2.0",
            "_view_name": "LayoutView",
            "align_content": null,
            "align_items": null,
            "align_self": null,
            "border": null,
            "bottom": null,
            "display": null,
            "flex": null,
            "flex_flow": null,
            "grid_area": null,
            "grid_auto_columns": null,
            "grid_auto_flow": null,
            "grid_auto_rows": null,
            "grid_column": null,
            "grid_gap": null,
            "grid_row": null,
            "grid_template_areas": null,
            "grid_template_columns": null,
            "grid_template_rows": null,
            "height": null,
            "justify_content": null,
            "justify_items": null,
            "left": null,
            "margin": null,
            "max_height": null,
            "max_width": null,
            "min_height": null,
            "min_width": null,
            "object_fit": null,
            "object_position": null,
            "order": null,
            "overflow": null,
            "overflow_x": null,
            "overflow_y": null,
            "padding": null,
            "right": null,
            "top": null,
            "visibility": null,
            "width": null
          }
        },
        "65fc7fd9b46e4199a5735039750b2bbe": {
          "model_module": "@jupyter-widgets/controls",
          "model_name": "ProgressStyleModel",
          "model_module_version": "1.5.0",
          "state": {
            "_model_module": "@jupyter-widgets/controls",
            "_model_module_version": "1.5.0",
            "_model_name": "ProgressStyleModel",
            "_view_count": null,
            "_view_module": "@jupyter-widgets/base",
            "_view_module_version": "1.2.0",
            "_view_name": "StyleView",
            "bar_color": null,
            "description_width": ""
          }
        },
        "7361949c1de24200a3fa94028ba71a11": {
          "model_module": "@jupyter-widgets/base",
          "model_name": "LayoutModel",
          "model_module_version": "1.2.0",
          "state": {
            "_model_module": "@jupyter-widgets/base",
            "_model_module_version": "1.2.0",
            "_model_name": "LayoutModel",
            "_view_count": null,
            "_view_module": "@jupyter-widgets/base",
            "_view_module_version": "1.2.0",
            "_view_name": "LayoutView",
            "align_content": null,
            "align_items": null,
            "align_self": null,
            "border": null,
            "bottom": null,
            "display": null,
            "flex": null,
            "flex_flow": null,
            "grid_area": null,
            "grid_auto_columns": null,
            "grid_auto_flow": null,
            "grid_auto_rows": null,
            "grid_column": null,
            "grid_gap": null,
            "grid_row": null,
            "grid_template_areas": null,
            "grid_template_columns": null,
            "grid_template_rows": null,
            "height": null,
            "justify_content": null,
            "justify_items": null,
            "left": null,
            "margin": null,
            "max_height": null,
            "max_width": null,
            "min_height": null,
            "min_width": null,
            "object_fit": null,
            "object_position": null,
            "order": null,
            "overflow": null,
            "overflow_x": null,
            "overflow_y": null,
            "padding": null,
            "right": null,
            "top": null,
            "visibility": null,
            "width": null
          }
        },
        "0ae0bd3b759344baa4b58869a9f534d5": {
          "model_module": "@jupyter-widgets/controls",
          "model_name": "DescriptionStyleModel",
          "model_module_version": "1.5.0",
          "state": {
            "_model_module": "@jupyter-widgets/controls",
            "_model_module_version": "1.5.0",
            "_model_name": "DescriptionStyleModel",
            "_view_count": null,
            "_view_module": "@jupyter-widgets/base",
            "_view_module_version": "1.2.0",
            "_view_name": "StyleView",
            "description_width": ""
          }
        }
      }
    }
  },
  "cells": [
    {
      "cell_type": "markdown",
      "metadata": {
        "id": "view-in-github",
        "colab_type": "text"
      },
      "source": [
        "<a href=\"https://colab.research.google.com/github/RayanovRishat/Uni-AI/blob/main/%D0%9F%D1%80%D0%B5%D0%B4%D0%BE%D0%B1%D1%80%D0%B0%D0%B1%D0%BE%D1%82%D0%BA%D0%B0_%D0%A1%D1%82%D0%B0%D1%82_%D0%B0%D0%BD%D0%B0%D0%BB%D0%B8%D0%B7_%D1%81%D0%BE%D0%B7%D0%B4%D0%B0%D0%BD%D0%B8%D0%B5_%D0%B4%D0%B0%D1%82%D0%B0%D1%84%D1%80%D0%B5%D0%B9%D0%BC%D0%B0.ipynb\" target=\"_parent\"><img src=\"https://colab.research.google.com/assets/colab-badge.svg\" alt=\"Open In Colab\"/></a>"
      ]
    },
    {
      "cell_type": "markdown",
      "source": [
        "**Импорт библиотек**"
      ],
      "metadata": {
        "id": "TcGHQOZmyl_J"
      }
    },
    {
      "cell_type": "code",
      "source": [
        "# Импортируем библиотеки\n",
        "import pandas as pd\n",
        "import re\n",
        "import os"
      ],
      "metadata": {
        "id": "gEquF9RLyrA3"
      },
      "execution_count": 1,
      "outputs": []
    },
    {
      "cell_type": "markdown",
      "source": [
        "**1. Загрузка и подготовка данных**"
      ],
      "metadata": {
        "id": "I2ycyNZ-yd_h"
      }
    },
    {
      "cell_type": "code",
      "source": [
        "# Подключаем Google Drive\n",
        "from google.colab import drive\n",
        "drive.mount('/content/drive')\n",
        "\n",
        "# Указываем путь к файлу\n",
        "file_path = '/content/drive/MyDrive/Colab Notebooks/СТАЖИРОВКА ООО \"ГИПЕР\"/reviews.xlsx'\n",
        "\n",
        "# Проверяем, существует ли файл\n",
        "if not os.path.exists(file_path):\n",
        "    raise FileNotFoundError(f\"Файл не найден по пути: {file_path}\")\n",
        "\n",
        "# Загружаем данные из Excel\n",
        "try:\n",
        "    df = pd.read_excel(file_path, engine='openpyxl')\n",
        "    print(\"✅ Файл успешно загружен\")\n",
        "except Exception as e:\n",
        "    raise RuntimeError(f\"Ошибка при загрузке файла: {e}\")\n",
        "\n",
        "# Переименовываем столбцы для удобства (если требуется)\n",
        "try:\n",
        "    df.columns = ['Оценка', 'Текст_отзыва', 'Плюсы', 'Минусы', 'Дата_создания',\n",
        "                  'Название_продукта', 'Артикул_продавца', 'Продавец', 'Бренд', 'Заголовок_отзыва']\n",
        "    print(\"✅ Столбцы переименованы\")\n",
        "except Exception as e:\n",
        "    print(f\"⚠️ Не удалось переименовать столбцы: {e}\")"
      ],
      "metadata": {
        "colab": {
          "base_uri": "https://localhost:8080/"
        },
        "id": "rglHVm0ryip3",
        "outputId": "352aab13-1fea-4110-89e0-adf839cba613"
      },
      "execution_count": 2,
      "outputs": [
        {
          "output_type": "stream",
          "name": "stdout",
          "text": [
            "Drive already mounted at /content/drive; to attempt to forcibly remount, call drive.mount(\"/content/drive\", force_remount=True).\n",
            "✅ Файл успешно загружен\n",
            "✅ Столбцы переименованы\n"
          ]
        }
      ]
    },
    {
      "cell_type": "markdown",
      "source": [
        "**2. Предобработка данных**"
      ],
      "metadata": {
        "id": "7blHpfWLzhAp"
      }
    },
    {
      "cell_type": "code",
      "source": [
        "# Очистка текстовых данных\n",
        "def clean_text(text):\n",
        "    if isinstance(text, str):\n",
        "        return re.sub(r'[^\\w\\s]', '', text.strip())\n",
        "    return ''\n",
        "\n",
        "# Применяем очистку к столбцу \"Текст_отзыва\"\n",
        "df['Текст_отзыва'] = df['Текст_отзыва'].apply(clean_text)\n",
        "\n",
        "# Обработка пропущенных значений\n",
        "df.fillna({'Текст_отзыва': 'нет_данных', 'Оценка': 0}, inplace=True)\n",
        "\n",
        "# Преобразование даты\n",
        "df['Дата_создания'] = pd.to_datetime(df['Дата_создания'], errors='coerce')\n",
        "\n",
        "# Добавление длины отзыва\n",
        "df['Длина_отзыва'] = df['Текст_отзыва'].str.len()\n",
        "\n",
        "# Стандартизация числовых признаков\n",
        "from sklearn.preprocessing import StandardScaler\n",
        "scaler = StandardScaler()\n",
        "df['Длина_отзыва_scaled'] = scaler.fit_transform(df[['Длина_отзыва']])\n",
        "\n",
        "# Векторизация текста\n",
        "from sklearn.feature_extraction.text import TfidfVectorizer\n",
        "vectorizer = TfidfVectorizer(max_features=5000)\n",
        "X_text = vectorizer.fit_transform(df['Текст_отзыва'])\n",
        "\n",
        "# Вывод первых строк\n",
        "print(\"📊 Первые строки датафрейма:\")\n",
        "print(df.head())"
      ],
      "metadata": {
        "colab": {
          "base_uri": "https://localhost:8080/"
        },
        "id": "9ybVMRa-zi0r",
        "outputId": "3e7223ef-47e0-4186-b55e-1d1898aff3dd"
      },
      "execution_count": 3,
      "outputs": [
        {
          "output_type": "stream",
          "name": "stdout",
          "text": [
            "📊 Первые строки датафрейма:\n",
            "   Оценка                                       Текст_отзыва  \\\n",
            "0       2                                                      \n",
            "1       1                                                      \n",
            "2       1  После 3х месяцев эксплуатации потекла вода пом...   \n",
            "3       1                                   Не советую брать   \n",
            "4       1                                                      \n",
            "\n",
            "                     Плюсы                                             Минусы  \\\n",
            "0  Обычная,только фирма ок                             Включатели не надежные   \n",
            "1                      NaN                                                NaN   \n",
            "2                      NaN  потекла вода помимо резервуара с кофе, вода на...   \n",
            "3                   Ничего  Колонка не подключается вообще, находит , идёт...   \n",
            "4                      NaN                              Прислали другой товар   \n",
            "\n",
            "              Дата_создания  \\\n",
            "0 2025-03-14 09:40:33+00:00   \n",
            "1 2025-03-14 07:17:50+00:00   \n",
            "2 2025-03-14 05:19:12+00:00   \n",
            "3 2025-03-14 03:22:04+00:00   \n",
            "4 2025-03-13 20:18:40+00:00   \n",
            "\n",
            "                                   Название_продукта Артикул_продавца  \\\n",
            "0                             Газовая плита GG5A10WH      СП-00060946   \n",
            "1   Паровой утюг для глажки Virtuo FV1712E0, 2000 Вт      СП-00037674   \n",
            "2            Кофеварка капельная с кофемолкой KT-705      СП-00019266   \n",
            "3     Умная колонка Капсула Нео с Марусей, оранжевый      СП-00063652   \n",
            "4  Кофемашина автоматическая PrimaDonna Soul ECAM...      СП-00038895   \n",
            "\n",
            "                                           Продавец     Бренд  \\\n",
            "0  ОБЩЕСТВО С ОГРАНИЧЕННОЙ ОТВЕТСТВЕННОСТЬЮ \"ГИПЕР\"   Gorenje   \n",
            "1  ОБЩЕСТВО С ОГРАНИЧЕННОЙ ОТВЕТСТВЕННОСТЬЮ \"ГИПЕР\"     Tefal   \n",
            "2  ОБЩЕСТВО С ОГРАНИЧЕННОЙ ОТВЕТСТВЕННОСТЬЮ \"ГИПЕР\"   Kitfort   \n",
            "3  ОБЩЕСТВО С ОГРАНИЧЕННОЙ ОТВЕТСТВЕННОСТЬЮ \"ГИПЕР\"        VK   \n",
            "4  ОБЩЕСТВО С ОГРАНИЧЕННОЙ ОТВЕТСТВЕННОСТЬЮ \"ГИПЕР\"  Delonghi   \n",
            "\n",
            "            Заголовок_отзыва  Длина_отзыва  Длина_отзыва_scaled  \n",
            "0           Плиты с духовкой             0            -0.544457  \n",
            "1                      Утюги             0            -0.544457  \n",
            "2                  Кофеварки           179             0.992703  \n",
            "3  Музыкальные проигрыватели            16            -0.407057  \n",
            "4                 Кофемашины             0            -0.544457  \n"
          ]
        }
      ]
    },
    {
      "cell_type": "markdown",
      "source": [
        "**3. Статистический анализ данных**"
      ],
      "metadata": {
        "id": "RvFEdFwnzyAY"
      }
    },
    {
      "cell_type": "code",
      "source": [
        "import matplotlib.pyplot as plt\n",
        "import seaborn as sns\n",
        "\n",
        "# Распределение оценок\n",
        "plt.figure(figsize=(8, 5))\n",
        "sns.countplot(x='Оценка', data=df, palette='viridis')\n",
        "plt.title('Распределение оценок')\n",
        "plt.xlabel('Оценка')\n",
        "plt.ylabel('Количество')\n",
        "plt.show()\n",
        "\n",
        "# Длина отзывов\n",
        "plt.figure(figsize=(10, 6))\n",
        "sns.histplot(df['Длина_отзыва'], bins=50, kde=True, color='skyblue')\n",
        "plt.title('Распределение длины текстовых отзывов')\n",
        "plt.xlabel('Длина текста')\n",
        "plt.ylabel('Частота')\n",
        "plt.show()\n",
        "\n",
        "# Корреляция между оценкой и длиной отзыва\n",
        "plt.figure(figsize=(10, 6))\n",
        "sns.scatterplot(x='Длина_отзыва', y='Оценка', data=df, alpha=0.6)\n",
        "plt.title('Корреляция между оценкой и длиной отзыва')\n",
        "plt.xlabel('Длина отзыва')\n",
        "plt.ylabel('Оценка')\n",
        "plt.show()"
      ],
      "metadata": {
        "colab": {
          "base_uri": "https://localhost:8080/",
          "height": 1000
        },
        "id": "heP8gaOuz1L6",
        "outputId": "79a3830e-1dc5-4d83-e7c7-acd7cd81ad29"
      },
      "execution_count": 4,
      "outputs": [
        {
          "output_type": "stream",
          "name": "stderr",
          "text": [
            "<ipython-input-4-16798c5afcae>:6: FutureWarning: \n",
            "\n",
            "Passing `palette` without assigning `hue` is deprecated and will be removed in v0.14.0. Assign the `x` variable to `hue` and set `legend=False` for the same effect.\n",
            "\n",
            "  sns.countplot(x='Оценка', data=df, palette='viridis')\n"
          ]
        },
        {
          "output_type": "display_data",
          "data": {
            "text/plain": [
              "<Figure size 800x500 with 1 Axes>"
            ],
            "image/png": "[encoded data removed]"
          },
          "metadata": {}
        },
        {
          "output_type": "display_data",
          "data": {
            "text/plain": [
              "<Figure size 1000x600 with 1 Axes>"
            ],
            "image/png": "[encoded data removed]"
          },
          "metadata": {}
        },
        {
          "output_type": "display_data",
          "data": {
            "text/plain": [
              "<Figure size 1000x600 with 1 Axes>"
            ],
            "image/png": "[encoded data removed]"
          },
          "metadata": {}
        }
      ]
    },
    {
      "cell_type": "markdown",
      "source": [
        "**4. Кластеризация данных**"
      ],
      "metadata": {
        "id": "aHABa4xC0Ail"
      }
    },
    {
      "cell_type": "code",
      "source": [
        "from sklearn.cluster import KMeans\n",
        "from sklearn.decomposition import PCA\n",
        "\n",
        "# Объединение признаков\n",
        "from scipy.sparse import hstack\n",
        "X_combined = hstack([X_text, df[['Длина_отзыва_scaled']].values])\n",
        "\n",
        "# Метод локтя для выбора количества кластеров\n",
        "inertias = []\n",
        "K_range = range(1, 10)\n",
        "for k in K_range:\n",
        "    kmeans = KMeans(n_clusters=k, random_state=42)\n",
        "    kmeans.fit(X_combined)\n",
        "    inertias.append(kmeans.inertia_)\n",
        "\n",
        "# Визуализация метода локтя\n",
        "plt.plot(K_range, inertias, marker='o')\n",
        "plt.title('Метод локтя')\n",
        "plt.xlabel('Количество кластеров')\n",
        "plt.ylabel('Inertia')\n",
        "plt.show()\n",
        "\n",
        "# Выбор оптимального числа кластеров (например, 5)\n",
        "kmeans = KMeans(n_clusters=5, random_state=42)\n",
        "df['Кластер'] = kmeans.fit_predict(X_combined)\n",
        "\n",
        "# Визуализация кластеров\n",
        "pca = PCA(n_components=2)\n",
        "X_pca = pca.fit_transform(X_combined.toarray())\n",
        "\n",
        "plt.figure(figsize=(10, 6))\n",
        "sns.scatterplot(x=X_pca[:, 0], y=X_pca[:, 1], hue=df['Кластер'], palette='viridis')\n",
        "plt.title('Визуализация кластеров')\n",
        "plt.xlabel('PCA 1')\n",
        "plt.ylabel('PCA 2')\n",
        "plt.legend(title='Кластер')\n",
        "plt.show()"
      ],
      "metadata": {
        "colab": {
          "base_uri": "https://localhost:8080/",
          "height": 1000
        },
        "id": "kTC8T6eO0CQZ",
        "outputId": "45cfd07c-de11-4828-fd98-3fcd1248a6b7"
      },
      "execution_count": 5,
      "outputs": [
        {
          "output_type": "display_data",
          "data": {
            "text/plain": [
              "<Figure size 640x480 with 1 Axes>"
            ],
            "image/png": "[encoded data removed]"
          },
          "metadata": {}
        },
        {
          "output_type": "display_data",
          "data": {
            "text/plain": [
              "<Figure size 1000x600 with 1 Axes>"
            ],
            "image/png": "[encoded data removed]"
          },
          "metadata": {}
        }
      ]
    },
    {
      "cell_type": "markdown",
      "source": [
        "**5. Использование LLM для анализа данных**"
      ],
      "metadata": {
        "id": "eyjuq8hz0TxC"
      }
    },
    {
      "cell_type": "code",
      "source": [
        "from transformers import pipeline\n",
        "\n",
        "# Загрузка модели для анализа тональности\n",
        "try:\n",
        "    classifier = pipeline('sentiment-analysis', model='blanchefort/rubert-base-cased-sentiment')\n",
        "    print(\"✅ Модель BERT загружена\")\n",
        "except Exception as e:\n",
        "    print(f\"⚠️ Ошибка загрузки модели: {e}\")\n",
        "    exit()\n",
        "\n",
        "# Функция анализа тональности\n",
        "def analyze_sentiment(text):\n",
        "    try:\n",
        "        result = classifier(text)[0]\n",
        "        return result['label']\n",
        "    except:\n",
        "        return 'неопределено'\n",
        "\n",
        "# Применение LLM к текстовым данным\n",
        "df['Тональность'] = df['Текст_отзыва'].apply(analyze_sentiment)\n",
        "\n",
        "# Вывод результатов\n",
        "print(\"📊 Результаты анализа тональности:\")\n",
        "print(df[['Текст_отзыва', 'Тональность']].head(10))"
      ],
      "metadata": {
        "colab": {
          "base_uri": "https://localhost:8080/",
          "height": 524,
          "referenced_widgets": [
            "ada70170417b46848acb408823406345",
            "5f8ab37b436e420881edbe6bfa0e223a",
            "432d7e8c83224c129bed3c595c246b1f",
            "530d175045fa4739b3565cf8bc3ffdd3",
            "c4876bb5c45f48678ac8cf3f79d9112c",
            "248b85e387334ae6838da18f060011d5",
            "6a8a570665c849bba75b998d6244076d",
            "351624aa56184318967a0b17e628f143",
            "78a21b31caec449098aea387f81cffdc",
            "56cb41749dd640e2869630e0cb4b7b39",
            "7facb0d81d0d4e20b049e0ee8d8abcc0",
            "24f787894b804967aaf61e84b5d0f0a8",
            "a04c6765a4b3485796ec3e80f2182123",
            "f10534751cc3492da27ff953be8cc148",
            "3657514fa603410797b3e04edeeac010",
            "830f2e6ea8ba458d9b5c2aaca93c889c",
            "0d5c4df25ea042f994bdcd1caf313529",
            "358a6a8c9e4c4abeaacaa86b6b99d96d",
            "298c7c5e21e040c39565b9553d69a758",
            "abe254ebb8934198b284bdda92999d7b",
            "a790026ea8c7485b9b6440eae682d27d",
            "1090d94909d04329bb15793053c8847f",
            "fb2e9f828b7449568c2ba24a9c05fb40",
            "09eb55b2c927440baa393cd8658d153f",
            "09637def72e04fa58cabd16601b84fd4",
            "23e1742ae09b4b54b07290b0bd40bfd2",
            "d0f99d1c0bb44f7d82daa42fdcf7d343",
            "6580b1a16647423ab86cd473986d7c57",
            "51481c8bbc8f4fd5b4c37be760561408",
            "6519d5675e0641a8969270cee6d95f0b",
            "4f3ba6cb6c5d4ba7be4f3133da2ca2cc",
            "ffabb6dad9c64b6dbec0bb1cbb22c303",
            "7378453e7f3543b0a16cd94c852f8d0c",
            "5d102c645a904a198dae60196de92bed",
            "a7174d45f59f46b8b44cf7f27673a5b5",
            "580b4303b4854e10aaa1e7c2e7510ace",
            "744f5bbd182d4e848793246feace5138",
            "ecab6f79b2714958b27db40fc799fa85",
            "ef675c214dd841f2a80be434efc2cde0",
            "011136bf12ef4897b6579f420f4d2417",
            "2f86966d25c34d5a8b1e5b8ac7c37133",
            "80f9059a1f80471f92152382a7e818f1",
            "a6815041a0c74448a78c68937028c32c",
            "a109bed0226341cd96c5e8bbb2e09454",
            "cc49c232c41e48b19ac73030336accc1",
            "695557e05f1f444c9d07b4f8659b480e",
            "ad7f5f6c08be4a8b9d79cf653b373ce5",
            "fb979ee5998642fc93b9d0da7f7d7cc8",
            "0eadd9e3d5404190a02b67805705741c",
            "3f1ee8454860417c9d78ea7418e7337c",
            "d586a34813474b7c8b243120a7096ec7",
            "db5d18e20a4949009f6558a699e83a5f",
            "65fc7fd9b46e4199a5735039750b2bbe",
            "7361949c1de24200a3fa94028ba71a11",
            "0ae0bd3b759344baa4b58869a9f534d5"
          ]
        },
        "id": "41BkugEG0VW_",
        "outputId": "2e512774-9d90-4000-ed6e-2c89f3dd7a0c"
      },
      "execution_count": 6,
      "outputs": [
        {
          "output_type": "stream",
          "name": "stderr",
          "text": [
            "/usr/local/lib/python3.11/dist-packages/huggingface_hub/utils/_auth.py:94: UserWarning: \n",
            "The secret `HF_TOKEN` does not exist in your Colab secrets.\n",
            "To authenticate with the Hugging Face Hub, create a token in your settings tab (https://huggingface.co/settings/tokens), set it as secret in your Google Colab and restart your session.\n",
            "You will be able to reuse this secret in all of your notebooks.\n",
            "Please note that authentication is recommended but still optional to access public models or datasets.\n",
            "  warnings.warn(\n"
          ]
        },
        {
          "output_type": "display_data",
          "data": {
            "text/plain": [
              "config.json:   0%|          | 0.00/943 [00:00<?, ?B/s]"
            ],
            "application/vnd.jupyter.widget-view+json": {
              "version_major": 2,
              "version_minor": 0,
              "model_id": "ada70170417b46848acb408823406345"
            }
          },
          "metadata": {}
        },
        {
          "output_type": "display_data",
          "data": {
            "text/plain": [
              "model.safetensors:   0%|          | 0.00/711M [00:00<?, ?B/s]"
            ],
            "application/vnd.jupyter.widget-view+json": {
              "version_major": 2,
              "version_minor": 0,
              "model_id": "24f787894b804967aaf61e84b5d0f0a8"
            }
          },
          "metadata": {}
        },
        {
          "output_type": "display_data",
          "data": {
            "text/plain": [
              "tokenizer_config.json:   0%|          | 0.00/499 [00:00<?, ?B/s]"
            ],
            "application/vnd.jupyter.widget-view+json": {
              "version_major": 2,
              "version_minor": 0,
              "model_id": "fb2e9f828b7449568c2ba24a9c05fb40"
            }
          },
          "metadata": {}
        },
        {
          "output_type": "display_data",
          "data": {
            "text/plain": [
              "vocab.txt:   0%|          | 0.00/1.40M [00:00<?, ?B/s]"
            ],
            "application/vnd.jupyter.widget-view+json": {
              "version_major": 2,
              "version_minor": 0,
              "model_id": "5d102c645a904a198dae60196de92bed"
            }
          },
          "metadata": {}
        },
        {
          "output_type": "display_data",
          "data": {
            "text/plain": [
              "special_tokens_map.json:   0%|          | 0.00/112 [00:00<?, ?B/s]"
            ],
            "application/vnd.jupyter.widget-view+json": {
              "version_major": 2,
              "version_minor": 0,
              "model_id": "cc49c232c41e48b19ac73030336accc1"
            }
          },
          "metadata": {}
        },
        {
          "output_type": "stream",
          "name": "stderr",
          "text": [
            "Device set to use cpu\n"
          ]
        },
        {
          "output_type": "stream",
          "name": "stdout",
          "text": [
            "✅ Модель BERT загружена\n",
            "📊 Результаты анализа тональности:\n",
            "                                        Текст_отзыва Тональность\n",
            "0                                                        NEUTRAL\n",
            "1                                                        NEUTRAL\n",
            "2  После 3х месяцев эксплуатации потекла вода пом...     NEUTRAL\n",
            "3                                   Не советую брать     NEUTRAL\n",
            "4                                                        NEUTRAL\n",
            "5                                                        NEUTRAL\n",
            "6                                                        NEUTRAL\n",
            "7           Просьба вернуть деньги за негодный товар    NEGATIVE\n",
            "8                            Подошва вся  покарябана    NEGATIVE\n",
            "9  Ребята если хотите испортить настроение себе и...    NEGATIVE\n"
          ]
        }
      ]
    },
    {
      "cell_type": "markdown",
      "source": [
        "**6. Классификация отзывов по заданным категориям**"
      ],
      "metadata": {
        "id": "ik-yjjit0diS"
      }
    },
    {
      "cell_type": "code",
      "source": [
        "# Словарь ключевых слов для категорий\n",
        "category_keywords = {\n",
        "    \"Отзыв не относится к товару\": [\"доставка\", \"упаковка\", \"возврат\", \"деньги\", \"получил\"],\n",
        "    \"Отзыв оставили конкуренты\": [\"не советую\", \"лучше брать\", \"ненадежный\", \"не покупайте\"],\n",
        "    \"Спам\": [\"http\", \"реклама\", \"сайт\", \"заработать\", \"купить здесь\"],\n",
        "    \"Нецензурная лексика\": [\"брак\", \"говно\", \"мразь\", \"не работает\"],\n",
        "    \"Отзыв с политическим контекстом\": [\"страна\", \"власть\", \"коррупция\", \"политика\"]\n",
        "}\n",
        "\n",
        "# Функция классификации\n",
        "def classify_review(text):\n",
        "    text_lower = text.lower()\n",
        "    for category, keywords in category_keywords.items():\n",
        "        for word in keywords:\n",
        "            if re.search(r'\\b' + re.escape(word) + r'\\b', text_lower):\n",
        "                return category\n",
        "    return \"Другое\"\n",
        "\n",
        "# Применение функции\n",
        "df['Категория'] = df['Текст_отзыва'].astype(str).apply(classify_review)\n",
        "\n",
        "# Статистика по категориям\n",
        "print(\"📊 Статистика по категориям:\")\n",
        "print(df['Категория'].value_counts())\n",
        "\n",
        "# Вывод первых строк\n",
        "print(\"\\n📊 Примеры классификации:\")\n",
        "print(df[['Текст_отзыва', 'Категория']].head(10))"
      ],
      "metadata": {
        "colab": {
          "base_uri": "https://localhost:8080/"
        },
        "id": "qsRKvt-50fH9",
        "outputId": "37c21b40-f13d-4fe3-bf5a-3c274d4a711b"
      },
      "execution_count": 7,
      "outputs": [
        {
          "output_type": "stream",
          "name": "stdout",
          "text": [
            "📊 Статистика по категориям:\n",
            "Категория\n",
            "Другое                             6208\n",
            "Отзыв не относится к товару         651\n",
            "Нецензурная лексика                 182\n",
            "Отзыв оставили конкуренты            90\n",
            "Спам                                  3\n",
            "Отзыв с политическим контекстом       2\n",
            "Name: count, dtype: int64\n",
            "\n",
            "📊 Примеры классификации:\n",
            "                                        Текст_отзыва  \\\n",
            "0                                                      \n",
            "1                                                      \n",
            "2  После 3х месяцев эксплуатации потекла вода пом...   \n",
            "3                                   Не советую брать   \n",
            "4                                                      \n",
            "5                                                      \n",
            "6                                                      \n",
            "7           Просьба вернуть деньги за негодный товар   \n",
            "8                            Подошва вся  покарябана   \n",
            "9  Ребята если хотите испортить настроение себе и...   \n",
            "\n",
            "                     Категория  \n",
            "0                       Другое  \n",
            "1                       Другое  \n",
            "2                       Другое  \n",
            "3    Отзыв оставили конкуренты  \n",
            "4                       Другое  \n",
            "5                       Другое  \n",
            "6                       Другое  \n",
            "7  Отзыв не относится к товару  \n",
            "8                       Другое  \n",
            "9  Отзыв не относится к товару  \n"
          ]
        }
      ]
    },
    {
      "cell_type": "markdown",
      "source": [
        "**7. Визуализация и выводы**"
      ],
      "metadata": {
        "id": "sEDt-biT0hLC"
      }
    },
    {
      "cell_type": "code",
      "source": [
        "# Визуализация распределения категорий\n",
        "plt.figure(figsize=(12, 6))\n",
        "sns.countplot(y='Категория', data=df, order=df['Категория'].value_counts().index, palette='coolwarm')\n",
        "plt.title('Распределение отзывов по категориям')\n",
        "plt.xlabel('Количество')\n",
        "plt.ylabel('Категория')\n",
        "plt.tight_layout()\n",
        "plt.show()\n",
        "\n",
        "# Вывод статистики по кластерам и категориям\n",
        "print(\"\\n📊 Статистика по кластерам и категориям:\")\n",
        "print(df.groupby('Кластер')['Категория'].value_counts().unstack().fillna(0))"
      ],
      "metadata": {
        "colab": {
          "base_uri": "https://localhost:8080/",
          "height": 989
        },
        "id": "wB2_KZm70mTa",
        "outputId": "4315d388-5a74-4276-ee10-900bee5b9dd8"
      },
      "execution_count": 8,
      "outputs": [
        {
          "output_type": "stream",
          "name": "stderr",
          "text": [
            "<ipython-input-8-3a9235dd6133>:3: FutureWarning: \n",
            "\n",
            "Passing `palette` without assigning `hue` is deprecated and will be removed in v0.14.0. Assign the `y` variable to `hue` and set `legend=False` for the same effect.\n",
            "\n",
            "  sns.countplot(y='Категория', data=df, order=df['Категория'].value_counts().index, palette='coolwarm')\n"
          ]
        },
        {
          "output_type": "display_data",
          "data": {
            "text/plain": [
              "<Figure size 1200x600 with 1 Axes>"
            ],
            "image/png": "[encoded data removed]"
          },
          "metadata": {}
        },
        {
          "output_type": "stream",
          "name": "stdout",
          "text": [
            "\n",
            "📊 Статистика по кластерам и категориям:\n",
            "Категория  Другое  Нецензурная лексика  Отзыв не относится к товару  \\\n",
            "Кластер                                                               \n",
            "0          4552.0                 48.0                         76.0   \n",
            "1           102.0                 12.0                         76.0   \n",
            "2           405.0                 48.0                        216.0   \n",
            "3             9.0                  2.0                         20.0   \n",
            "4          1140.0                 72.0                        263.0   \n",
            "\n",
            "Категория  Отзыв оставили конкуренты  Отзыв с политическим контекстом  Спам  \n",
            "Кластер                                                                      \n",
            "0                               13.0                              0.0   0.0  \n",
            "1                               12.0                              0.0   1.0  \n",
            "2                               29.0                              0.0   1.0  \n",
            "3                                0.0                              0.0   1.0  \n",
            "4                               36.0                              2.0   0.0  \n"
          ]
        }
      ]
    },
    {
      "cell_type": "markdown",
      "source": [
        "**8. Сохранение результатов**"
      ],
      "metadata": {
        "id": "c7crpYH60tDl"
      }
    },
    {
      "cell_type": "code",
      "source": [
        "# Сохранение обработанного датафрейма\n",
        "output_path = 'processed_reviews.csv'\n",
        "df.to_csv(output_path, index=False)\n",
        "print(f\"\\n✅ Данные сохранены в файл: {output_path}\")"
      ],
      "metadata": {
        "colab": {
          "base_uri": "https://localhost:8080/"
        },
        "id": "Z4zAdhha0vHA",
        "outputId": "474a42ac-fda0-4868-ca69-0268da6c26bd"
      },
      "execution_count": 9,
      "outputs": [
        {
          "output_type": "stream",
          "name": "stdout",
          "text": [
            "\n",
            "✅ Данные сохранены в файл: processed_reviews.csv\n"
          ]
        }
      ]
    },
    {
      "cell_type": "markdown",
      "source": [
        "**9. Полный датасет после обработки**"
      ],
      "metadata": {
        "id": "5rA6pp4k0xOe"
      }
    },
    {
      "cell_type": "code",
      "source": [
        "print(\"\\n📊 Итоговая структура датафрейма:\")\n",
        "print(df.head())"
      ],
      "metadata": {
        "colab": {
          "base_uri": "https://localhost:8080/"
        },
        "id": "A6qVh-oh00ve",
        "outputId": "1fa477db-9bc3-40f4-a232-37ce3fb722a9"
      },
      "execution_count": 10,
      "outputs": [
        {
          "output_type": "stream",
          "name": "stdout",
          "text": [
            "\n",
            "📊 Итоговая структура датафрейма:\n",
            "   Оценка                                       Текст_отзыва  \\\n",
            "0       2                                                      \n",
            "1       1                                                      \n",
            "2       1  После 3х месяцев эксплуатации потекла вода пом...   \n",
            "3       1                                   Не советую брать   \n",
            "4       1                                                      \n",
            "\n",
            "                     Плюсы                                             Минусы  \\\n",
            "0  Обычная,только фирма ок                             Включатели не надежные   \n",
            "1                      NaN                                                NaN   \n",
            "2                      NaN  потекла вода помимо резервуара с кофе, вода на...   \n",
            "3                   Ничего  Колонка не подключается вообще, находит , идёт...   \n",
            "4                      NaN                              Прислали другой товар   \n",
            "\n",
            "              Дата_создания  \\\n",
            "0 2025-03-14 09:40:33+00:00   \n",
            "1 2025-03-14 07:17:50+00:00   \n",
            "2 2025-03-14 05:19:12+00:00   \n",
            "3 2025-03-14 03:22:04+00:00   \n",
            "4 2025-03-13 20:18:40+00:00   \n",
            "\n",
            "                                   Название_продукта Артикул_продавца  \\\n",
            "0                             Газовая плита GG5A10WH      СП-00060946   \n",
            "1   Паровой утюг для глажки Virtuo FV1712E0, 2000 Вт      СП-00037674   \n",
            "2            Кофеварка капельная с кофемолкой KT-705      СП-00019266   \n",
            "3     Умная колонка Капсула Нео с Марусей, оранжевый      СП-00063652   \n",
            "4  Кофемашина автоматическая PrimaDonna Soul ECAM...      СП-00038895   \n",
            "\n",
            "                                           Продавец     Бренд  \\\n",
            "0  ОБЩЕСТВО С ОГРАНИЧЕННОЙ ОТВЕТСТВЕННОСТЬЮ \"ГИПЕР\"   Gorenje   \n",
            "1  ОБЩЕСТВО С ОГРАНИЧЕННОЙ ОТВЕТСТВЕННОСТЬЮ \"ГИПЕР\"     Tefal   \n",
            "2  ОБЩЕСТВО С ОГРАНИЧЕННОЙ ОТВЕТСТВЕННОСТЬЮ \"ГИПЕР\"   Kitfort   \n",
            "3  ОБЩЕСТВО С ОГРАНИЧЕННОЙ ОТВЕТСТВЕННОСТЬЮ \"ГИПЕР\"        VK   \n",
            "4  ОБЩЕСТВО С ОГРАНИЧЕННОЙ ОТВЕТСТВЕННОСТЬЮ \"ГИПЕР\"  Delonghi   \n",
            "\n",
            "            Заголовок_отзыва  Длина_отзыва  Длина_отзыва_scaled  Кластер  \\\n",
            "0           Плиты с духовкой             0            -0.544457        0   \n",
            "1                      Утюги             0            -0.544457        0   \n",
            "2                  Кофеварки           179             0.992703        2   \n",
            "3  Музыкальные проигрыватели            16            -0.407057        0   \n",
            "4                 Кофемашины             0            -0.544457        0   \n",
            "\n",
            "  Тональность                  Категория  \n",
            "0     NEUTRAL                     Другое  \n",
            "1     NEUTRAL                     Другое  \n",
            "2     NEUTRAL                     Другое  \n",
            "3     NEUTRAL  Отзыв оставили конкуренты  \n",
            "4     NEUTRAL                     Другое  \n"
          ]
        }
      ]
    }
  ]
}